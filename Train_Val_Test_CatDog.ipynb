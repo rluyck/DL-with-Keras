{
 "cells": [
  {
   "cell_type": "markdown",
   "metadata": {
    "id": "rTvb4Nu7tH-K"
   },
   "source": [
    "### Creating train, validation and test directories"
   ]
  },
  {
   "cell_type": "markdown",
   "metadata": {
    "id": "DnzblXhwxGQ2"
   },
   "source": [
    "- Dataset: https://www.microsoft.com/en-us/download/confirmation.aspx?id=54765"
   ]
  },
  {
   "cell_type": "code",
   "execution_count": 7,
   "metadata": {},
   "outputs": [],
   "source": [
    "import itertools, os, random, shutil, glob"
   ]
  },
  {
   "cell_type": "code",
   "execution_count": 4,
   "metadata": {
    "id": "oB20bN5jxxI4"
   },
   "outputs": [
    {
     "name": "stdout",
     "output_type": "stream",
     "text": [
      "c:\\Users\\robin\\Documents\\Keras\\Keras-DeepLizard-Course\n",
      "c:\\Users\\robin\\Documents\\Keras\\Keras-DeepLizard-Course\\data\\dogs-vs-cats\n"
     ]
    }
   ],
   "source": [
    "print(os.getcwd())\n",
    "os.chdir('data/dogs-vs-cats')\n",
    "print(os.getcwd())"
   ]
  },
  {
   "cell_type": "code",
   "execution_count": 6,
   "metadata": {},
   "outputs": [
    {
     "name": "stdout",
     "output_type": "stream",
     "text": [
      "folder train/dog already exists, check if the other ones are also already created.\n"
     ]
    }
   ],
   "source": [
    "if os.path.isdir('train/dog') is False:\n",
    "    os.makedirs('train/dog')\n",
    "    os.makedirs('train/cat')\n",
    "    os.makedirs('valid/dog')\n",
    "    os.makedirs('valid/cat')\n",
    "    os.makedirs('test/dog')\n",
    "    os.makedirs('test/cat')\n",
    "    print('created train/valid/test folders for both dogs and cats')\n",
    "else:\n",
    "    print('folder train/dog already exists, check if the other ones are also already created.')"
   ]
  },
  {
   "cell_type": "markdown",
   "metadata": {},
   "source": [
    "- dogs-vs-cats directory contains 25000 images (12500 cats and 12500 dogs)\n",
    "- randomly take 500 for training, 100 for validation and 50 for test"
   ]
  },
  {
   "cell_type": "code",
   "execution_count": 15,
   "metadata": {},
   "outputs": [
    {
     "name": "stdout",
     "output_type": "stream",
     "text": [
      "train/cat is not empty\n",
      "train/dog is not empty\n",
      "valid/cat is not empty\n",
      "valid/dog is not empty\n",
      "test/cat is not empty\n",
      "test/dog is not empty\n"
     ]
    }
   ],
   "source": [
    "dict_directories_to_check = {'train/cat':0,\n",
    "                             'train/dog':0,\n",
    "                             'valid/cat':0,\n",
    "                             'valid/dog':0,\n",
    "                             'test/cat':0,\n",
    "                             'test/dog':0}\n",
    "directories_to_check = ['train/cat','train/dog','valid/cat','valid/dog','test/cat','test/dog']\n",
    "for dr in directories_to_check:\n",
    "    if len(os.listdir(dr)) == 0:\n",
    "        print(f\"{dr} is empty\")\n",
    "        dict_directories_to_check[dr]=0\n",
    "    else:    \n",
    "        print(f\"{dr} is not empty\")\n",
    "        dict_directories_to_check[dr]=1"
   ]
  },
  {
   "cell_type": "code",
   "execution_count": 16,
   "metadata": {},
   "outputs": [
    {
     "data": {
      "text/plain": [
       "{'train/cat': 1,\n",
       " 'train/dog': 1,\n",
       " 'valid/cat': 1,\n",
       " 'valid/dog': 1,\n",
       " 'test/cat': 1,\n",
       " 'test/dog': 1}"
      ]
     },
     "execution_count": 16,
     "metadata": {},
     "output_type": "execute_result"
    }
   ],
   "source": [
    "dict_directories_to_check"
   ]
  },
  {
   "cell_type": "code",
   "execution_count": 17,
   "metadata": {},
   "outputs": [
    {
     "name": "stdout",
     "output_type": "stream",
     "text": [
      "train/cat folder already contain images\n",
      "train/dog folder already contain images\n",
      "valid/cat folder already contain images\n",
      "valid/dog folder already contain images\n",
      "test/cat folder already contain images\n",
      "test/dog folder already contain images\n"
     ]
    }
   ],
   "source": [
    "#TRAIN\n",
    "if dict_directories_to_check['train/cat']==0:\n",
    "    for c in random.sample(glob.glob('cat*'), 500):\n",
    "        shutil.move(c,  'train/cat'  )\n",
    "else:\n",
    "    print('train/cat folder already contain images')\n",
    "if dict_directories_to_check['train/dog']==0:        \n",
    "    for c in random.sample(glob.glob('dog*'), 500):\n",
    "        shutil.move(c,  'train/dog'  )\n",
    "else:\n",
    "    print('train/dog folder already contain images')\n",
    "\n",
    "#VALID\n",
    "if dict_directories_to_check['valid/cat']==0:        \n",
    "    for c in random.sample(glob.glob('cat*'), 100):\n",
    "        shutil.move(c,  'valid/cat'  )\n",
    "else:\n",
    "    print('valid/cat folder already contain images')\n",
    "if dict_directories_to_check['valid/dog']==0:        \n",
    "    for c in random.sample(glob.glob('dog*'), 100):\n",
    "        shutil.move(c,  'valid/dog'  )\n",
    "else:\n",
    "    print('valid/dog folder already contain images')\n",
    "\n",
    "#TEST\n",
    "if dict_directories_to_check['test/cat']==0:   \n",
    "    for c in random.sample(glob.glob('cat*'), 50):\n",
    "        shutil.move(c,  'test/cat'  )\n",
    "else:\n",
    "    print('test/cat folder already contain images')\n",
    "if dict_directories_to_check['test/dog']==0:   \n",
    "    for c in random.sample(glob.glob('dog*'), 50):\n",
    "        shutil.move(c,  'test/dog'  )\n",
    "else:\n",
    "    print('test/dog folder already contain images')"
   ]
  }
 ],
 "metadata": {
  "kernelspec": {
   "display_name": "Python 3.9.12 ('base')",
   "language": "python",
   "name": "python3"
  },
  "language_info": {
   "codemirror_mode": {
    "name": "ipython",
    "version": 3
   },
   "file_extension": ".py",
   "mimetype": "text/x-python",
   "name": "python",
   "nbconvert_exporter": "python",
   "pygments_lexer": "ipython3",
   "version": "3.9.12"
  },
  "orig_nbformat": 4,
  "vscode": {
   "interpreter": {
    "hash": "49d1cf207c92197553c1326cc52484d1ee2809997f5109c15474876a3e083b6e"
   }
  }
 },
 "nbformat": 4,
 "nbformat_minor": 2
}
