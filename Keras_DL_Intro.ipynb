{
  "cells": [
    {
      "cell_type": "markdown",
      "metadata": {
        "id": "HfeCYfnQqK8i"
      },
      "source": [
        "# Deep Learning with Keras \n",
        "________________________"
      ]
    },
    {
      "cell_type": "markdown",
      "metadata": {
        "id": "0npPAcvLVn3T"
      },
      "source": [
        "### Prepare and process the data\n",
        "\n",
        "- Each datapoint in dataset is also called sample or input data\n",
        "- Labels = target data\n",
        "  - positive / negative\n",
        "  - cat / dog\n",
        "- We'll use a sequential model, what type of data format does it need for x and y? -> Check options tf.keras Sequential in documentation\n",
        "  - x = samples in Numpy array format\n",
        "  - y = targets in Numpy array format\n"
      ]
    },
    {
      "cell_type": "code",
      "execution_count": 2,
      "metadata": {
        "id": "Qbr1PjBpValF"
      },
      "outputs": [],
      "source": [
        "import tensorflow as tf\n",
        "import numpy as np\n",
        "from random import randint\n",
        "from sklearn.utils import shuffle\n",
        "from sklearn.preprocessing import MinMaxScaler"
      ]
    },
    {
      "cell_type": "code",
      "execution_count": 3,
      "metadata": {
        "id": "dathgowTXE7Q"
      },
      "outputs": [],
      "source": [
        "train_samples = []\n",
        "train_labels =  []"
      ]
    },
    {
      "cell_type": "markdown",
      "metadata": {
        "id": "tBK9l1clXMx7"
      },
      "source": [
        "### Example data\n",
        "\n",
        "- An experiemental drug was tested on individuals from ages 13 to 100.\n",
        "- The trial had 2100 participants. Half were under 65 years old, half were over 65 years old.\n",
        "- 95% of patients 65 or older experienced side effects.\n",
        "- 95% of patients under 65 experienced no side effects."
      ]
    },
    {
      "cell_type": "code",
      "execution_count": 4,
      "metadata": {
        "id": "9Ukr_pGSXKlT"
      },
      "outputs": [],
      "source": [
        "for i in range(50):\n",
        "    # The 5% of younger individuals who did experience side effects\n",
        "    random_younger = randint(13,64) # generate a random number between 13 and 64\n",
        "    train_samples.append(random_younger)\n",
        "    train_labels.append(1) # 1 = side effects\n",
        "    \n",
        "    # The 5% of older individuals who did not experience side effects\n",
        "    random_older = randint(65,100)\n",
        "    train_samples.append(random_older)\n",
        "    train_labels.append(0) # 0 = no side effects\n",
        "\n",
        "for i in range(1000):\n",
        "    # The 95% of younger individuals who did not experience side effects\n",
        "    random_younger = randint(13,64)\n",
        "    train_samples.append(random_younger)\n",
        "    train_labels.append(0)\n",
        "    \n",
        "    # The 95% of older individuals who did experience side effects\n",
        "    random_older = randint(65,100)\n",
        "    train_samples.append(random_older)\n",
        "    train_labels.append(1)"
      ]
    },
    {
      "cell_type": "code",
      "execution_count": 5,
      "metadata": {},
      "outputs": [
        {
          "name": "stdout",
          "output_type": "stream",
          "text": [
            "[24, 93, 55, 65, 19, 91, 59, 75, 49, 81]\n",
            "[0, 1, 0, 1, 0, 1, 0, 1, 0, 1]\n"
          ]
        }
      ],
      "source": [
        "print(train_samples[150:160])\n",
        "print(train_labels[150:160])"
      ]
    },
    {
      "cell_type": "code",
      "execution_count": 6,
      "metadata": {
        "id": "pRiS7vrWXypY"
      },
      "outputs": [],
      "source": [
        "train_samples = np.array(train_samples)\n",
        "train_labels = np.array(train_labels)\n",
        "train_labels, train_samples = shuffle(train_labels, train_samples)"
      ]
    },
    {
      "cell_type": "code",
      "execution_count": 7,
      "metadata": {
        "id": "Lkd3wIe2YTqA"
      },
      "outputs": [],
      "source": [
        "scaler = MinMaxScaler(feature_range=(0,1)) # scale the 13-100 age to 0-1\n",
        "scaled_train_samples = scaler.fit_transform(train_samples.reshape(-1,1)) \n",
        "#reshape(-1,1) is a formality, fit transform does not accept 1D data, we have to reshape it in this way to be able to pass it to the fit_transform function"
      ]
    },
    {
      "cell_type": "code",
      "execution_count": 8,
      "metadata": {},
      "outputs": [
        {
          "name": "stdout",
          "output_type": "stream",
          "text": [
            "[ 28  21  83  86  17  82  86 100  91  83]\n",
            "[[0.17241379]\n",
            " [0.09195402]\n",
            " [0.8045977 ]\n",
            " [0.83908046]\n",
            " [0.04597701]\n",
            " [0.79310345]\n",
            " [0.83908046]\n",
            " [1.        ]\n",
            " [0.89655172]\n",
            " [0.8045977 ]]\n"
          ]
        }
      ],
      "source": [
        "print(train_samples[150:160])\n",
        "print(scaled_train_samples[150:160])"
      ]
    },
    {
      "cell_type": "markdown",
      "metadata": {
        "id": "iBDPC3yCfJ2a"
      },
      "source": [
        "### Simple sequential model"
      ]
    },
    {
      "cell_type": "code",
      "execution_count": 9,
      "metadata": {
        "id": "qDCRrKkVYdCk"
      },
      "outputs": [],
      "source": [
        "#libraries for building the model\n",
        "import keras\n",
        "from keras import backend as K\n",
        "from keras.models import Sequential\n",
        "from keras.layers import Activation\n",
        "from keras.layers.core import Dense\n",
        "\n",
        "#libraries for training the model\n",
        "from keras.optimizers import Adam\n",
        "from keras.metrics import categorical_crossentropy"
      ]
    },
    {
      "cell_type": "code",
      "execution_count": 10,
      "metadata": {
        "id": "g8OwRMbkfS1t"
      },
      "outputs": [],
      "source": [
        "# input_shape=(1,) -> through this the model understands the shape of the input data (format it it expects)\n",
        "model = Sequential([\n",
        "    Dense(16, input_shape=(1,), activation='relu'), #16 is arbitrarily chosen #this Dense layer is the first hidden layer, not the input layer\n",
        "    Dense(32, activation='relu'), #32 is arbitrarily chosen\n",
        "    Dense(2, activation='softmax') #2 possible output classes (side effects / no side effects), softmax gives output probability for each class\n",
        "]) "
      ]
    },
    {
      "cell_type": "code",
      "execution_count": 11,
      "metadata": {
        "colab": {
          "base_uri": "https://localhost:8080/"
        },
        "id": "jcuSs7Tff8vR",
        "outputId": "adea9c0b-7ecf-4fa3-e1a1-6be50fe24359"
      },
      "outputs": [
        {
          "name": "stdout",
          "output_type": "stream",
          "text": [
            "Model: \"sequential\"\n",
            "_________________________________________________________________\n",
            " Layer (type)                Output Shape              Param #   \n",
            "=================================================================\n",
            " dense (Dense)               (None, 16)                32        \n",
            "                                                                 \n",
            " dense_1 (Dense)             (None, 32)                544       \n",
            "                                                                 \n",
            " dense_2 (Dense)             (None, 2)                 66        \n",
            "                                                                 \n",
            "=================================================================\n",
            "Total params: 642\n",
            "Trainable params: 642\n",
            "Non-trainable params: 0\n",
            "_________________________________________________________________\n"
          ]
        }
      ],
      "source": [
        "model.summary()"
      ]
    },
    {
      "cell_type": "code",
      "execution_count": 12,
      "metadata": {
        "id": "OxVJEIFDgioB"
      },
      "outputs": [],
      "source": [
        "#compile: prepares the model for training\n",
        "model.compile(optimizer=Adam(learning_rate=.0001),\n",
        "              loss='sparse_categorical_crossentropy',\n",
        "              metrics=['accuracy'])"
      ]
    },
    {
      "cell_type": "code",
      "execution_count": 13,
      "metadata": {
        "colab": {
          "base_uri": "https://localhost:8080/"
        },
        "id": "T4z9H5P6hCRh",
        "outputId": "77df97ec-196a-4c05-9add-ee8fe474b6fb"
      },
      "outputs": [
        {
          "name": "stdout",
          "output_type": "stream",
          "text": [
            "Epoch 1/20\n",
            "210/210 - 2s - loss: 0.7147 - accuracy: 0.3529 - 2s/epoch - 11ms/step\n",
            "Epoch 2/20\n",
            "210/210 - 1s - loss: 0.6813 - accuracy: 0.5224 - 713ms/epoch - 3ms/step\n",
            "Epoch 3/20\n",
            "210/210 - 1s - loss: 0.6522 - accuracy: 0.5957 - 667ms/epoch - 3ms/step\n",
            "Epoch 4/20\n",
            "210/210 - 1s - loss: 0.6255 - accuracy: 0.6633 - 688ms/epoch - 3ms/step\n",
            "Epoch 5/20\n",
            "210/210 - 1s - loss: 0.6018 - accuracy: 0.6962 - 690ms/epoch - 3ms/step\n",
            "Epoch 6/20\n",
            "210/210 - 1s - loss: 0.5709 - accuracy: 0.7524 - 590ms/epoch - 3ms/step\n",
            "Epoch 7/20\n",
            "210/210 - 1s - loss: 0.5309 - accuracy: 0.8162 - 614ms/epoch - 3ms/step\n",
            "Epoch 8/20\n",
            "210/210 - 1s - loss: 0.4975 - accuracy: 0.8381 - 678ms/epoch - 3ms/step\n",
            "Epoch 9/20\n",
            "210/210 - 1s - loss: 0.4667 - accuracy: 0.8538 - 691ms/epoch - 3ms/step\n",
            "Epoch 10/20\n",
            "210/210 - 1s - loss: 0.4385 - accuracy: 0.8733 - 690ms/epoch - 3ms/step\n",
            "Epoch 11/20\n",
            "210/210 - 1s - loss: 0.4133 - accuracy: 0.8781 - 660ms/epoch - 3ms/step\n",
            "Epoch 12/20\n",
            "210/210 - 1s - loss: 0.3911 - accuracy: 0.8871 - 672ms/epoch - 3ms/step\n",
            "Epoch 13/20\n",
            "210/210 - 1s - loss: 0.3716 - accuracy: 0.8957 - 730ms/epoch - 3ms/step\n",
            "Epoch 14/20\n",
            "210/210 - 1s - loss: 0.3552 - accuracy: 0.9000 - 730ms/epoch - 3ms/step\n",
            "Epoch 15/20\n",
            "210/210 - 1s - loss: 0.3415 - accuracy: 0.9062 - 691ms/epoch - 3ms/step\n",
            "Epoch 16/20\n",
            "210/210 - 1s - loss: 0.3302 - accuracy: 0.9067 - 682ms/epoch - 3ms/step\n",
            "Epoch 17/20\n",
            "210/210 - 1s - loss: 0.3208 - accuracy: 0.9105 - 701ms/epoch - 3ms/step\n",
            "Epoch 18/20\n",
            "210/210 - 1s - loss: 0.3133 - accuracy: 0.9157 - 729ms/epoch - 3ms/step\n",
            "Epoch 19/20\n",
            "210/210 - 1s - loss: 0.3068 - accuracy: 0.9148 - 677ms/epoch - 3ms/step\n",
            "Epoch 20/20\n",
            "210/210 - 1s - loss: 0.3016 - accuracy: 0.9200 - 663ms/epoch - 3ms/step\n"
          ]
        },
        {
          "data": {
            "text/plain": [
              "<keras.callbacks.History at 0x2c2d855aac0>"
            ]
          },
          "execution_count": 13,
          "metadata": {},
          "output_type": "execute_result"
        }
      ],
      "source": [
        "#training\n",
        "model.fit(scaled_train_samples,\n",
        "          train_labels,\n",
        "          batch_size=10, #number of samples in 1 batch to be passed and processed by the network\n",
        "          epochs=20, #the model is going to process or train on all of the data in the dataset 20 times before completing the training\n",
        "          shuffle=True, #by default it's already on True -> we want any order in the dataset to be erased before we pass it to the model, so that it doesn't learn this\n",
        "          verbose=2) #option to allow us to see output from fit funtion, 2 gives most messages\n",
        "\n",
        "#The batch size defines the number of samples that will be propagated through the network.\n",
        "#For instance, let's say you have 1050 training samples and you want to set up a batch_size equal to 100. \n",
        "#The algorithm takes the first 100 samples (from 1st to 100th) from the training dataset and trains the network. \n",
        "#Next, it takes the second 100 samples (from 101st to 200th) and trains the network again. \n",
        "#We can keep doing this procedure until we have propagated all samples through of the network. \n",
        "#Problem might happen with the last set of samples. \n",
        "#In our example, we've used 1050 which is not divisible by 100 without remainder. \n",
        "#The simplest solution is just to get the final 50 samples and train the network."
      ]
    },
    {
      "cell_type": "markdown",
      "metadata": {
        "id": "JpcAOfJ9jfqn"
      },
      "source": [
        "### Creating a validation set on the fly \n",
        "\n",
        "- add parameter validation_split=0.1 to model.fit\n",
        "- the validation part of data is not used in the training process\n",
        "- CAUTION:\n",
        "    - the train / validation split occurs before the shuffle part, this means that the validation part is not shuffled! \n",
        "    - this is the reason why we shuffled before passing the data to the fit function "
      ]
    },
    {
      "cell_type": "code",
      "execution_count": 14,
      "metadata": {
        "colab": {
          "base_uri": "https://localhost:8080/"
        },
        "id": "OEt9dbQVj9SS",
        "outputId": "fbaba947-8d4e-4331-d8b1-e3df2dcb87a6"
      },
      "outputs": [
        {
          "name": "stdout",
          "output_type": "stream",
          "text": [
            "Epoch 1/20\n",
            "189/189 - 1s - loss: 0.2870 - accuracy: 0.9217 - val_loss: 0.3849 - val_accuracy: 0.8857 - 1s/epoch - 8ms/step\n",
            "Epoch 2/20\n",
            "189/189 - 1s - loss: 0.2831 - accuracy: 0.9275 - val_loss: 0.3879 - val_accuracy: 0.8524 - 801ms/epoch - 4ms/step\n",
            "Epoch 3/20\n",
            "189/189 - 1s - loss: 0.2799 - accuracy: 0.9233 - val_loss: 0.3880 - val_accuracy: 0.8524 - 767ms/epoch - 4ms/step\n",
            "Epoch 4/20\n",
            "189/189 - 1s - loss: 0.2771 - accuracy: 0.9228 - val_loss: 0.3831 - val_accuracy: 0.8857 - 765ms/epoch - 4ms/step\n",
            "Epoch 5/20\n",
            "189/189 - 1s - loss: 0.2744 - accuracy: 0.9243 - val_loss: 0.3818 - val_accuracy: 0.8857 - 790ms/epoch - 4ms/step\n",
            "Epoch 6/20\n",
            "189/189 - 1s - loss: 0.2720 - accuracy: 0.9243 - val_loss: 0.3826 - val_accuracy: 0.8857 - 753ms/epoch - 4ms/step\n",
            "Epoch 7/20\n",
            "189/189 - 1s - loss: 0.2700 - accuracy: 0.9259 - val_loss: 0.3840 - val_accuracy: 0.8857 - 706ms/epoch - 4ms/step\n",
            "Epoch 8/20\n",
            "189/189 - 1s - loss: 0.2683 - accuracy: 0.9243 - val_loss: 0.3835 - val_accuracy: 0.8857 - 722ms/epoch - 4ms/step\n",
            "Epoch 9/20\n",
            "189/189 - 1s - loss: 0.2665 - accuracy: 0.9243 - val_loss: 0.3812 - val_accuracy: 0.8857 - 749ms/epoch - 4ms/step\n",
            "Epoch 10/20\n",
            "189/189 - 1s - loss: 0.2650 - accuracy: 0.9302 - val_loss: 0.3821 - val_accuracy: 0.8857 - 742ms/epoch - 4ms/step\n",
            "Epoch 11/20\n",
            "189/189 - 1s - loss: 0.2636 - accuracy: 0.9302 - val_loss: 0.3808 - val_accuracy: 0.8857 - 724ms/epoch - 4ms/step\n",
            "Epoch 12/20\n",
            "189/189 - 1s - loss: 0.2623 - accuracy: 0.9344 - val_loss: 0.3813 - val_accuracy: 0.8857 - 732ms/epoch - 4ms/step\n",
            "Epoch 13/20\n",
            "189/189 - 1s - loss: 0.2611 - accuracy: 0.9323 - val_loss: 0.3790 - val_accuracy: 0.8857 - 780ms/epoch - 4ms/step\n",
            "Epoch 14/20\n",
            "189/189 - 1s - loss: 0.2600 - accuracy: 0.9333 - val_loss: 0.3777 - val_accuracy: 0.8857 - 780ms/epoch - 4ms/step\n",
            "Epoch 15/20\n",
            "189/189 - 1s - loss: 0.2589 - accuracy: 0.9376 - val_loss: 0.3799 - val_accuracy: 0.8857 - 735ms/epoch - 4ms/step\n",
            "Epoch 16/20\n",
            "189/189 - 1s - loss: 0.2581 - accuracy: 0.9365 - val_loss: 0.3789 - val_accuracy: 0.8857 - 718ms/epoch - 4ms/step\n",
            "Epoch 17/20\n",
            "189/189 - 1s - loss: 0.2569 - accuracy: 0.9376 - val_loss: 0.3778 - val_accuracy: 0.8857 - 720ms/epoch - 4ms/step\n",
            "Epoch 18/20\n",
            "189/189 - 1s - loss: 0.2561 - accuracy: 0.9386 - val_loss: 0.3789 - val_accuracy: 0.8857 - 840ms/epoch - 4ms/step\n",
            "Epoch 19/20\n",
            "189/189 - 1s - loss: 0.2553 - accuracy: 0.9291 - val_loss: 0.3756 - val_accuracy: 0.8857 - 700ms/epoch - 4ms/step\n",
            "Epoch 20/20\n",
            "189/189 - 1s - loss: 0.2545 - accuracy: 0.9392 - val_loss: 0.3749 - val_accuracy: 0.8857 - 726ms/epoch - 4ms/step\n"
          ]
        },
        {
          "data": {
            "text/plain": [
              "<keras.callbacks.History at 0x2c2d9ab5df0>"
            ]
          },
          "execution_count": 14,
          "metadata": {},
          "output_type": "execute_result"
        }
      ],
      "source": [
        "#training\n",
        "model.fit(scaled_train_samples,\n",
        "          train_labels,\n",
        "          validation_split=0.1,\n",
        "          batch_size=10, #number of samples in 1 batch to be passed and processed by the network\n",
        "          epochs=20, #the model is going to process or train on all of the data in the dataset 30 times before completing the training\n",
        "          shuffle=True, #by default it's already on True -> we want any order in the dataset to be erased before we pass it to the model, so that it doesn't learn this\n",
        "          verbose=2) #option to allow us to see output from fit funtion, 2 gives most messages"
      ]
    },
    {
      "cell_type": "markdown",
      "metadata": {
        "id": "m01WvikJnokm"
      },
      "source": [
        "### Predictions (inference)\n",
        "\n",
        "- hold out a test set from training set\n",
        "- just for demonstrating inference we generate a new test set here"
      ]
    },
    {
      "cell_type": "code",
      "execution_count": 15,
      "metadata": {
        "id": "zb6eJ15PoDao"
      },
      "outputs": [],
      "source": [
        "test_samples = []\n",
        "test_labels =  []"
      ]
    },
    {
      "cell_type": "code",
      "execution_count": 16,
      "metadata": {
        "id": "TSGuSYhaoHcb"
      },
      "outputs": [],
      "source": [
        "for i in range(10):\n",
        "    # The 5% of younger individuals who did experience side effects\n",
        "    random_younger = randint(13,64)\n",
        "    test_samples.append(random_younger)\n",
        "    test_labels.append(1)\n",
        "    \n",
        "    # The 5% of older individuals who did not experience side effects\n",
        "    random_older = randint(65,100)\n",
        "    test_samples.append(random_older)\n",
        "    test_labels.append(0)\n",
        "\n",
        "for i in range(200):\n",
        "    # The 95% of younger individuals who did not experience side effects\n",
        "    random_younger = randint(13,64)\n",
        "    test_samples.append(random_younger)\n",
        "    test_labels.append(0)\n",
        "    \n",
        "    # The 95% of older individuals who did experience side effects\n",
        "    random_older = randint(65,100)\n",
        "    test_samples.append(random_older)\n",
        "    test_labels.append(1)"
      ]
    },
    {
      "cell_type": "code",
      "execution_count": 17,
      "metadata": {
        "id": "96Wz7HBxoINy"
      },
      "outputs": [],
      "source": [
        "test_labels = np.array(test_labels)\n",
        "test_samples = np.array(test_samples)"
      ]
    },
    {
      "cell_type": "code",
      "execution_count": 18,
      "metadata": {
        "id": "Ll8U_mLPoKca"
      },
      "outputs": [],
      "source": [
        "scaler = MinMaxScaler(feature_range=(0,1))\n",
        "scaled_test_samples = scaler.fit_transform((test_samples).reshape(-1,1))"
      ]
    },
    {
      "cell_type": "code",
      "execution_count": 19,
      "metadata": {
        "id": "3RdGNJgloMxV"
      },
      "outputs": [],
      "source": [
        "predictions = model.predict(x=scaled_test_samples, batch_size=10, verbose=0) \n",
        "# [0.9408204  0.05917962] --> [\"probability no side effect\" \"probability side effect\"]"
      ]
    },
    {
      "cell_type": "code",
      "execution_count": 20,
      "metadata": {
        "id": "xJ7nRStFoMpm"
      },
      "outputs": [],
      "source": [
        "rounded_predictions = np.argmax(predictions, axis=-1)\n",
        "#rounded_predictions = model.predict_classes(scaled_test_samples, batch_size=10, verbose=0)\n",
        "# 0 --> takes the class with highest probability"
      ]
    },
    {
      "cell_type": "markdown",
      "metadata": {
        "id": "5hMTkMNsphZs"
      },
      "source": [
        "### Confusion matrix"
      ]
    },
    {
      "cell_type": "code",
      "execution_count": 21,
      "metadata": {
        "id": "7AcFteFcpJ8x"
      },
      "outputs": [],
      "source": [
        "%matplotlib inline\n",
        "from sklearn.metrics import confusion_matrix\n",
        "import itertools\n",
        "import matplotlib.pyplot as plt"
      ]
    },
    {
      "cell_type": "code",
      "execution_count": 22,
      "metadata": {},
      "outputs": [],
      "source": [
        "def plot_confusion_matrix(cm, classes,\n",
        "                          normalize=False,\n",
        "                          title='Confusion matrix',\n",
        "                          cmap=plt.cm.Blues):\n",
        "    \"\"\"\n",
        "    This function prints and plots the confusion matrix.\n",
        "    Normalization can be applied by setting `normalize=True`.\n",
        "    \"\"\"\n",
        "    plt.imshow(cm, interpolation='nearest', cmap=cmap)\n",
        "    plt.title(title)\n",
        "    plt.colorbar()\n",
        "    tick_marks = np.arange(len(classes))\n",
        "    plt.xticks(tick_marks, classes, rotation=45)\n",
        "    plt.yticks(tick_marks, classes)\n",
        "\n",
        "    if normalize:\n",
        "        cm = cm.astype('float') / cm.sum(axis=1)[:, np.newaxis]\n",
        "        print(\"Normalized confusion matrix\")\n",
        "    else:\n",
        "        print('Confusion matrix, without normalization')\n",
        "\n",
        "    print(cm)\n",
        "\n",
        "    thresh = cm.max() / 2.\n",
        "    for i, j in itertools.product(range(cm.shape[0]), range(cm.shape[1])):\n",
        "        plt.text(j, i, cm[i, j],\n",
        "                 horizontalalignment=\"center\",\n",
        "                 color=\"white\" if cm[i, j] > thresh else \"black\")\n",
        "\n",
        "    plt.tight_layout()\n",
        "    plt.ylabel('True label')\n",
        "    plt.xlabel('Predicted label')"
      ]
    },
    {
      "cell_type": "code",
      "execution_count": 23,
      "metadata": {
        "id": "CzRow9kPppRk"
      },
      "outputs": [],
      "source": [
        "cm = confusion_matrix(y_true=test_labels, y_pred=rounded_predictions)"
      ]
    },
    {
      "cell_type": "code",
      "execution_count": 24,
      "metadata": {
        "colab": {
          "base_uri": "https://localhost:8080/",
          "height": 363
        },
        "id": "eqFIgrnqppMt",
        "outputId": "04edd409-ea15-47b3-a17a-c9cfb832ce4f"
      },
      "outputs": [
        {
          "name": "stdout",
          "output_type": "stream",
          "text": [
            "Confusion matrix, without normalization\n",
            "[[189  21]\n",
            " [ 10 200]]\n"
          ]
        },
        {
          "data": {
            "image/png": "[encoded data removed]",
            "text/plain": [
              "<Figure size 432x288 with 2 Axes>"
            ]
          },
          "metadata": {
            "needs_background": "light"
          },
          "output_type": "display_data"
        }
      ],
      "source": [
        "cm_plot_labels = ['no_side_effects','had_side_effects']\n",
        "plot_confusion_matrix(cm=cm, classes=cm_plot_labels, title='Confusion Matrix')"
      ]
    },
    {
      "cell_type": "markdown",
      "metadata": {
        "id": "vCXvmbl1jbV8"
      },
      "source": [
        "### Saving and loading the model"
      ]
    },
    {
      "cell_type": "markdown",
      "metadata": {
        "id": "QJpjMgPErbqv"
      },
      "source": [
        "#### option 1: model.save()"
      ]
    },
    {
      "cell_type": "code",
      "execution_count": 25,
      "metadata": {},
      "outputs": [],
      "source": [
        "import os.path"
      ]
    },
    {
      "cell_type": "code",
      "execution_count": 26,
      "metadata": {},
      "outputs": [
        {
          "name": "stdout",
          "output_type": "stream",
          "text": [
            "c:\\Users\\robin\\Documents\\Keras\\Keras-DeepLizard-Course\n",
            "c:\\Users\\robin\\Documents\\Keras\\Keras-DeepLizard-Course\\models\n",
            "c:\\Users\\robin\\Documents\\Keras\\Keras-DeepLizard-Course\n"
          ]
        }
      ],
      "source": [
        "os.chdir('c:\\\\Users\\\\robin\\\\Documents\\\\Keras\\\\Keras-DeepLizard-Course\\\\')\n",
        "print(os.getcwd())\n",
        "if os.path.isdir('models') is False:\n",
        "    os.makedirs('models')\n",
        "os.chdir('models')\n",
        "print(os.getcwd())\n",
        "if os.path.isfile('medical_trial_model.h5') is False:\n",
        "    model.save('medical_trial_model.h5')\n",
        "os.chdir('../')\n",
        "print(os.getcwd())"
      ]
    },
    {
      "cell_type": "markdown",
      "metadata": {
        "id": "5D1MR0SPq45e"
      },
      "source": [
        "\n",
        "The .save() functions saves:\n",
        "\n",
        "    - The architecture of the model (allowing you to re-create the model)\n",
        "    - The weights of the model.\n",
        "    - The training configuration (loss, optimizer).\n",
        "    - The state of the optimizer, allowing to resume training exactly where you left off."
      ]
    },
    {
      "cell_type": "code",
      "execution_count": 27,
      "metadata": {
        "id": "q4xgMBfEq2IZ"
      },
      "outputs": [],
      "source": [
        "from keras.models import load_model\n",
        "new_model = load_model('/models/medical_trial_model.h5')"
      ]
    },
    {
      "cell_type": "code",
      "execution_count": 28,
      "metadata": {
        "colab": {
          "base_uri": "https://localhost:8080/"
        },
        "id": "FiFdRBzfrCjF",
        "outputId": "9d0488db-0f82-46ed-9f96-25278f22a0cd"
      },
      "outputs": [
        {
          "name": "stdout",
          "output_type": "stream",
          "text": [
            "Model: \"sequential\"\n",
            "_________________________________________________________________\n",
            " Layer (type)                Output Shape              Param #   \n",
            "=================================================================\n",
            " dense (Dense)               (None, 16)                32        \n",
            "                                                                 \n",
            " dense_1 (Dense)             (None, 32)                544       \n",
            "                                                                 \n",
            " dense_2 (Dense)             (None, 2)                 66        \n",
            "                                                                 \n",
            "=================================================================\n",
            "Total params: 642\n",
            "Trainable params: 642\n",
            "Non-trainable params: 0\n",
            "_________________________________________________________________\n"
          ]
        }
      ],
      "source": [
        "new_model.summary()"
      ]
    },
    {
      "cell_type": "code",
      "execution_count": 29,
      "metadata": {
        "colab": {
          "base_uri": "https://localhost:8080/"
        },
        "id": "1hhmNqglrE7v",
        "outputId": "e4b7c039-084e-4109-bb37-7866989acece"
      },
      "outputs": [
        {
          "data": {
            "text/plain": [
              "[array([[ 0.25963163, -0.07359892, -0.05436987,  0.32195783, -0.34666577,\n",
              "         -0.47304136, -0.35182777,  0.6199667 ,  0.26072025,  0.151065  ,\n",
              "          0.33017758,  0.696458  ,  0.22669615,  0.7436711 , -0.3064354 ,\n",
              "         -0.53128505]], dtype=float32),\n",
              " array([-0.0978344 ,  0.        ,  0.        , -0.10508262,  0.        ,\n",
              "         0.        ,  0.        , -0.13269398, -0.09919395,  0.23927133,\n",
              "        -0.1103512 , -0.15066111, -0.08869144, -0.16258909,  0.        ,\n",
              "         0.        ], dtype=float32),\n",
              " array([[-9.07480046e-02, -9.85568836e-02,  9.07304585e-02,\n",
              "          5.38588583e-01,  4.99138325e-01, -2.62430310e-01,\n",
              "         -3.33489656e-01, -2.53224224e-01, -2.61669934e-01,\n",
              "          1.71976145e-02,  4.89072919e-01, -2.64467970e-02,\n",
              "          2.00373694e-01, -1.72172517e-01,  1.60079598e-02,\n",
              "         -3.29840809e-01,  9.58224162e-02, -9.49283540e-02,\n",
              "          1.15552641e-01,  9.53737795e-02, -2.81971216e-01,\n",
              "         -1.93800703e-01,  4.32151049e-01,  2.42127419e-01,\n",
              "          4.96626854e-01, -1.82003364e-01, -6.64521754e-02,\n",
              "         -5.90831578e-01,  2.90554643e-01,  4.66130495e-01,\n",
              "          5.20956993e-01, -1.01609826e-01],\n",
              "        [ 2.96073586e-01,  1.97377712e-01, -2.64550269e-01,\n",
              "          1.89533830e-03,  1.92828685e-01, -2.84146547e-01,\n",
              "          7.01000690e-02, -2.04142138e-01, -2.47262493e-01,\n",
              "          9.69102681e-02, -1.64200574e-01,  5.29205203e-02,\n",
              "          4.84497547e-02, -8.49543810e-02,  2.84375042e-01,\n",
              "         -2.61524320e-01, -1.88616246e-01, -2.72958070e-01,\n",
              "          2.64963895e-01,  2.75683135e-01, -2.98416883e-01,\n",
              "         -1.07075661e-01, -1.71917498e-01,  2.64949411e-01,\n",
              "         -2.52875358e-01,  2.85309404e-01, -2.02722713e-01,\n",
              "         -1.56537518e-01,  2.06960589e-01, -1.32018849e-01,\n",
              "         -3.14445585e-01,  2.85888582e-01],\n",
              "        [-2.36730501e-01, -2.96482772e-01, -2.09544346e-01,\n",
              "          2.00423926e-01, -7.33821392e-02, -3.11167300e-01,\n",
              "         -3.15390855e-01,  2.81462520e-01, -4.65000272e-02,\n",
              "         -1.77611455e-01,  2.19991356e-01,  3.33335549e-01,\n",
              "         -1.67946503e-01,  1.41915977e-02, -3.43042642e-01,\n",
              "         -2.69532502e-02, -1.47044703e-01, -3.57052684e-03,\n",
              "          3.11493248e-01,  3.38905066e-01, -1.11411065e-01,\n",
              "         -1.15627691e-01,  2.81210035e-01, -2.06476986e-01,\n",
              "          2.39414662e-01, -9.25345719e-02, -1.67577639e-01,\n",
              "         -1.91130310e-01,  2.00972468e-01,  3.39601845e-01,\n",
              "         -4.52586412e-02,  2.59058386e-01],\n",
              "        [ 2.16541186e-01,  5.25919735e-01,  1.75869375e-01,\n",
              "          9.41431150e-02,  5.55084348e-01, -1.45513594e-01,\n",
              "         -4.88585651e-01,  2.64128298e-01, -2.33832315e-01,\n",
              "          2.46338725e-01,  4.74674761e-01,  4.81858701e-02,\n",
              "          4.58782539e-03, -3.36560875e-01, -5.75461984e-02,\n",
              "         -3.32514197e-01, -1.10786542e-01,  3.47617239e-01,\n",
              "         -5.11103451e-01,  1.10034361e-01,  5.52520081e-02,\n",
              "         -3.04997951e-01,  3.79829854e-01,  3.86475742e-01,\n",
              "          4.49171603e-01, -2.57580727e-01, -2.09394053e-01,\n",
              "         -4.68150944e-01, -3.12133074e-01,  5.11438251e-02,\n",
              "          5.85856378e-01, -3.29603434e-01],\n",
              "        [-2.69421607e-01, -3.03250104e-01, -3.01985115e-01,\n",
              "          2.32969910e-01,  1.60819381e-01, -2.21320689e-01,\n",
              "          1.80566818e-01,  1.42176151e-01,  1.95994288e-01,\n",
              "         -7.70479739e-02, -2.00702548e-02,  1.51775450e-01,\n",
              "          1.05599612e-01,  2.41115481e-01, -4.86978292e-02,\n",
              "          1.32391840e-01,  1.28118664e-01, -3.00520271e-01,\n",
              "          2.28927106e-01, -3.25992703e-01, -1.56216532e-01,\n",
              "          2.53326148e-01,  1.04192227e-01,  2.28001773e-02,\n",
              "         -4.65500951e-02,  3.17248434e-01,  2.58576065e-01,\n",
              "          3.51210445e-01,  3.50174606e-02,  1.68435246e-01,\n",
              "         -1.79672435e-01,  1.22568250e-01],\n",
              "        [ 7.55569041e-02, -1.90658256e-01, -4.70712781e-02,\n",
              "         -2.31604680e-01,  1.61790043e-01,  2.99946368e-02,\n",
              "         -1.47107422e-01, -3.53148580e-02,  1.18729770e-01,\n",
              "          2.62723237e-01, -1.53022304e-01, -3.47440243e-01,\n",
              "          1.28423125e-01, -1.60708129e-01, -6.60713315e-02,\n",
              "          2.36903399e-01,  2.65435308e-01,  1.77159280e-01,\n",
              "          2.10115463e-01,  2.76014119e-01, -1.49619788e-01,\n",
              "         -5.20553887e-02, -7.71818459e-02,  3.92747819e-02,\n",
              "          8.60572755e-02, -1.96721762e-01, -7.27680624e-02,\n",
              "          1.74533635e-01,  2.61192769e-01, -2.26241052e-02,\n",
              "          1.97779149e-01, -1.15891784e-01],\n",
              "        [ 1.19909644e-01,  1.06850952e-01,  1.01033062e-01,\n",
              "          3.14754516e-01, -1.87899411e-01, -1.93007872e-01,\n",
              "         -1.82438865e-01,  1.19496584e-01,  1.86105162e-01,\n",
              "         -3.05982918e-01,  6.82407916e-02,  2.38839537e-01,\n",
              "         -2.24244326e-01, -2.71858275e-02, -2.79410750e-01,\n",
              "          1.48183256e-01, -3.73482704e-02, -5.20499349e-02,\n",
              "          1.65290087e-01, -1.93486899e-01, -9.76147056e-02,\n",
              "         -1.86908796e-01, -9.81917083e-02, -9.90901887e-02,\n",
              "         -1.22668058e-01, -2.44657725e-01,  3.23638588e-01,\n",
              "          2.79987425e-01,  2.75457054e-01, -1.62467331e-01,\n",
              "          8.05219710e-02,  7.14290440e-02],\n",
              "        [-3.99879247e-01,  3.07205111e-01,  7.15807080e-02,\n",
              "          4.82692540e-01,  2.48323664e-01, -3.14501286e-01,\n",
              "         -4.62528884e-01, -2.18995497e-01, -1.02694646e-01,\n",
              "         -2.39611432e-01, -1.53385177e-01, -2.42225274e-01,\n",
              "          3.54264170e-01, -2.18014702e-01, -3.43674332e-01,\n",
              "          1.88355118e-01,  4.99928892e-01, -7.19738305e-02,\n",
              "         -8.44276622e-02,  3.88302714e-01, -8.00703838e-03,\n",
              "          9.72569361e-02, -9.54018757e-02,  3.09464395e-01,\n",
              "          2.49683619e-01, -9.35516581e-02,  1.17303103e-01,\n",
              "          3.12712193e-02, -1.23386830e-01,  7.76465982e-02,\n",
              "          5.22521615e-01, -2.06702054e-01],\n",
              "        [ 1.25117898e-02,  2.95199335e-01, -4.23536524e-02,\n",
              "          2.72616982e-01,  1.77039698e-01,  2.76273936e-01,\n",
              "         -4.80226755e-01,  3.72557938e-02, -2.42128253e-01,\n",
              "         -2.64478236e-01,  2.91449517e-01, -1.49425924e-01,\n",
              "          5.68872213e-01,  1.61378592e-01, -7.79581070e-02,\n",
              "         -3.05696726e-01,  4.89765972e-01, -7.97079504e-02,\n",
              "         -8.86186063e-02,  5.77759922e-01, -2.60308623e-01,\n",
              "         -6.09149814e-01,  3.49607468e-01,  4.55882460e-01,\n",
              "          2.63869226e-01, -3.60862613e-01,  9.58019793e-02,\n",
              "         -4.02082503e-01,  3.28720301e-01,  2.47516558e-01,\n",
              "          3.90776753e-01,  2.79379040e-01],\n",
              "        [ 1.36617169e-01, -1.48079276e-01,  4.04276490e-01,\n",
              "         -2.23426163e-01, -3.77505645e-02, -2.01175168e-01,\n",
              "          3.35091799e-01,  1.33954734e-01,  1.49428040e-01,\n",
              "          1.63873117e-02, -8.24122205e-02, -1.09483458e-01,\n",
              "          5.23239113e-02,  1.86176777e-01, -3.23492050e-01,\n",
              "         -4.69426513e-02, -9.85813737e-02, -4.86944318e-02,\n",
              "          4.34736013e-01,  7.78442174e-02,  2.41982847e-01,\n",
              "          7.90015459e-02,  2.72850037e-01, -8.33692402e-02,\n",
              "          2.63945818e-01,  4.34412748e-01, -2.51116753e-02,\n",
              "          2.60621518e-01, -1.08996265e-01,  2.22549587e-01,\n",
              "         -3.40503752e-02, -1.27767667e-01],\n",
              "        [ 1.55065060e-02,  5.05193055e-01,  8.40661395e-03,\n",
              "          1.67874634e-01,  5.28309584e-01,  2.96623617e-01,\n",
              "         -4.73162800e-01, -2.93332636e-01, -2.20832452e-01,\n",
              "         -2.48183146e-01,  5.13823092e-01, -4.26947594e-01,\n",
              "         -1.32587522e-01,  1.18568957e-01,  2.61622369e-02,\n",
              "         -4.19428945e-03,  3.51430237e-01,  2.93672085e-04,\n",
              "         -2.09009219e-02,  3.76137972e-01, -4.26429182e-01,\n",
              "         -4.45021719e-01,  3.96731049e-01,  3.47802192e-01,\n",
              "          1.46638855e-01, -4.13866043e-02, -1.27331614e-01,\n",
              "         -2.89683700e-01, -2.12319717e-01,  4.87457275e-01,\n",
              "          5.76583564e-01, -2.25783199e-01],\n",
              "        [-1.18080407e-01,  2.11910680e-01, -1.37359470e-01,\n",
              "          4.19212908e-01,  2.39332318e-01, -3.48095298e-01,\n",
              "         -9.98295546e-02, -1.47486478e-01, -1.61091849e-01,\n",
              "         -3.19157587e-03,  2.45014712e-01,  3.60947773e-02,\n",
              "          3.73040661e-02, -3.26415837e-01, -1.05751753e-01,\n",
              "         -3.50117415e-01,  4.97902989e-01, -1.41095683e-01,\n",
              "          1.30343035e-01,  1.12879619e-01, -3.91155660e-01,\n",
              "         -4.37613159e-01,  1.65305927e-01,  2.68496007e-01,\n",
              "         -3.65083702e-02, -2.90195018e-01, -2.80717224e-01,\n",
              "         -3.48699123e-01, -3.16900969e-01,  2.00989380e-01,\n",
              "          2.96141267e-01,  2.05136210e-01],\n",
              "        [ 2.39680618e-01,  2.79769719e-01, -4.66870934e-01,\n",
              "          6.02360070e-01,  5.47975242e-01, -2.12812752e-01,\n",
              "         -4.47822541e-01, -2.96716601e-01,  9.63658988e-02,\n",
              "         -7.32585117e-02,  4.40786272e-01, -6.55710280e-01,\n",
              "         -6.82120472e-02, -2.64716089e-01, -3.50080907e-01,\n",
              "          1.25927955e-01, -3.40409987e-02, -1.75743848e-01,\n",
              "         -3.79689932e-01,  9.06859860e-02, -4.50519502e-01,\n",
              "         -1.83953002e-01,  5.25991201e-01,  5.65338016e-01,\n",
              "          5.70041895e-01,  2.69051772e-02, -1.72605336e-01,\n",
              "         -3.77961099e-01,  6.78657889e-02,  3.61525476e-01,\n",
              "          4.18874621e-01,  5.93987405e-02],\n",
              "        [-8.24689046e-02,  2.95422412e-02,  2.21119508e-01,\n",
              "          1.09383455e-02,  3.53672802e-01, -8.17049444e-02,\n",
              "          8.91150609e-02, -1.36749327e-01, -1.44228429e-01,\n",
              "          2.03798309e-01,  3.11917186e-01, -2.15399370e-01,\n",
              "          4.44106400e-01,  2.45683178e-01,  3.44569892e-01,\n",
              "         -3.18283558e-01,  1.34808898e-01, -1.16597995e-01,\n",
              "         -6.29598647e-02,  3.06849122e-01, -3.56101751e-01,\n",
              "         -4.42145504e-02,  4.89077091e-01,  1.29547611e-01,\n",
              "          5.02366185e-01, -2.43323565e-01,  1.83547348e-01,\n",
              "         -1.63651273e-01, -2.42328152e-01,  5.12589872e-01,\n",
              "          7.79190734e-02, -2.70542383e-01],\n",
              "        [-2.98912942e-01,  3.10405701e-01, -4.17267382e-02,\n",
              "          2.12690920e-01,  8.77243578e-02, -5.19278646e-02,\n",
              "          1.20929241e-01,  1.95314497e-01, -1.25633344e-01,\n",
              "         -3.09067488e-01, -1.54195338e-01, -6.27875924e-02,\n",
              "          1.58048838e-01,  9.79158878e-02,  3.17487121e-02,\n",
              "         -2.70461440e-02, -9.75069106e-02, -2.43155628e-01,\n",
              "          3.14749569e-01, -9.01269019e-02, -3.34999681e-01,\n",
              "          1.45273268e-01, -2.92423099e-01,  1.58461362e-01,\n",
              "          1.53089166e-02, -6.90486729e-02, -1.51865214e-01,\n",
              "         -5.01703322e-02,  7.13600218e-02, -2.43041515e-02,\n",
              "         -1.15919843e-01, -3.05206656e-01],\n",
              "        [-1.71336532e-03,  2.83761233e-01, -2.06522077e-01,\n",
              "         -1.87666431e-01, -2.13804469e-01,  1.93398327e-01,\n",
              "         -5.13561964e-02,  3.50615352e-01,  9.23787355e-02,\n",
              "         -5.29735386e-02, -1.28723800e-01, -1.87740609e-01,\n",
              "         -3.32098365e-01,  1.13209635e-01,  3.35792392e-01,\n",
              "         -3.20432186e-01,  2.53643602e-01, -1.51487485e-01,\n",
              "         -5.01334369e-02, -5.40117621e-02,  1.97799474e-01,\n",
              "          1.57860368e-01, -6.98119402e-02,  3.17310542e-01,\n",
              "         -1.43472925e-01,  3.34310532e-02,  2.28464097e-01,\n",
              "          1.95057660e-01,  1.02204919e-01,  9.65828598e-02,\n",
              "          2.85079032e-01, -1.24891147e-01]], dtype=float32),\n",
              " array([-0.03318135, -0.06265844,  0.21369374, -0.07464873, -0.11396959,\n",
              "         0.        ,  0.23665647, -0.03762935, -0.04130791, -0.00597549,\n",
              "        -0.07009105,  0.26961288, -0.11155699, -0.05109805,  0.        ,\n",
              "         0.        , -0.10604736,  0.        ,  0.2401556 , -0.12054767,\n",
              "         0.3078391 ,  0.2671848 , -0.13906011, -0.08749259, -0.13517396,\n",
              "         0.30319014,  0.        ,  0.26800412, -0.00147127, -0.14313386,\n",
              "        -0.11997002,  0.        ], dtype=float32),\n",
              " array([[-0.2900112 , -0.22778463],\n",
              "        [-0.5575334 ,  0.7023379 ],\n",
              "        [ 0.4287317 ,  0.05308159],\n",
              "        [-0.58103794, -0.09966026],\n",
              "        [-0.21850452,  0.19019367],\n",
              "        [-0.3597269 ,  0.07555327],\n",
              "        [ 0.7466345 , -0.73377854],\n",
              "        [-0.37126747, -0.23106317],\n",
              "        [-0.18435608,  0.02877264],\n",
              "        [-0.14555074,  0.1223155 ],\n",
              "        [-0.4751619 ,  0.41273072],\n",
              "        [ 0.8843099 , -0.47992307],\n",
              "        [-0.5152418 ,  0.3828654 ],\n",
              "        [-0.00709496,  0.12298918],\n",
              "        [-0.3800811 ,  0.19094941],\n",
              "        [ 0.31898102,  0.38809386],\n",
              "        [-0.6184915 ,  0.56334424],\n",
              "        [ 0.17553994,  0.2457476 ],\n",
              "        [ 0.3960532 ,  0.08268254],\n",
              "        [-0.4008193 ,  0.11570403],\n",
              "        [ 0.5105235 , -0.52314365],\n",
              "        [ 0.18907681, -0.57723033],\n",
              "        [-0.15410016,  0.32616526],\n",
              "        [-0.65489316,  0.3678235 ],\n",
              "        [-0.4830289 ,  0.4336824 ],\n",
              "        [ 0.36615685, -0.848872  ],\n",
              "        [-0.40169382,  0.41992816],\n",
              "        [ 0.6977212 , -0.5924342 ],\n",
              "        [ 0.0323463 ,  0.11025475],\n",
              "        [-0.57577217, -0.11669184],\n",
              "        [-0.58858377, -0.11117467],\n",
              "        [-0.10966983,  0.39480188]], dtype=float32),\n",
              " array([ 0.21362466, -0.21362467], dtype=float32)]"
            ]
          },
          "execution_count": 29,
          "metadata": {},
          "output_type": "execute_result"
        }
      ],
      "source": [
        "new_model.get_weights()"
      ]
    },
    {
      "cell_type": "code",
      "execution_count": 30,
      "metadata": {
        "colab": {
          "base_uri": "https://localhost:8080/"
        },
        "id": "ftx3rEt8rHLs",
        "outputId": "86cad0dd-5470-45f5-c814-dc0371dc9bbb"
      },
      "outputs": [
        {
          "data": {
            "text/plain": [
              "<keras.optimizers.optimizer_v2.adam.Adam at 0x2c2d8581e80>"
            ]
          },
          "execution_count": 30,
          "metadata": {},
          "output_type": "execute_result"
        }
      ],
      "source": [
        "#you can see that it uses the Adam optimizer\n",
        "new_model.optimizer"
      ]
    },
    {
      "cell_type": "markdown",
      "metadata": {
        "id": "bL_5QWNvriTv"
      },
      "source": [
        "#### option 2: model.to_json()\n",
        "\n",
        "    - when you only need to save the model's architecture (and not its weights or its training configuration)\n"
      ]
    },
    {
      "cell_type": "code",
      "execution_count": 31,
      "metadata": {
        "id": "n8DxxSierOhN"
      },
      "outputs": [],
      "source": [
        "# save as JSON\n",
        "json_string = model.to_json()\n",
        "\n",
        "# save as YAML\n",
        "# yaml_string = model.to_yaml()"
      ]
    },
    {
      "cell_type": "code",
      "execution_count": 32,
      "metadata": {
        "colab": {
          "base_uri": "https://localhost:8080/",
          "height": 192
        },
        "id": "L_5bc48orsjK",
        "outputId": "737a0fc8-82e7-4df0-a6f3-f25bf83eda1d"
      },
      "outputs": [
        {
          "data": {
            "text/plain": [
              "'{\"class_name\": \"Sequential\", \"config\": {\"name\": \"sequential\", \"layers\": [{\"class_name\": \"InputLayer\", \"config\": {\"batch_input_shape\": [null, 1], \"dtype\": \"float32\", \"sparse\": false, \"ragged\": false, \"name\": \"dense_input\"}}, {\"class_name\": \"Dense\", \"config\": {\"name\": \"dense\", \"trainable\": true, \"dtype\": \"float32\", \"batch_input_shape\": [null, 1], \"units\": 16, \"activation\": \"relu\", \"use_bias\": true, \"kernel_initializer\": {\"class_name\": \"GlorotUniform\", \"config\": {\"seed\": null}}, \"bias_initializer\": {\"class_name\": \"Zeros\", \"config\": {}}, \"kernel_regularizer\": null, \"bias_regularizer\": null, \"activity_regularizer\": null, \"kernel_constraint\": null, \"bias_constraint\": null}}, {\"class_name\": \"Dense\", \"config\": {\"name\": \"dense_1\", \"trainable\": true, \"dtype\": \"float32\", \"units\": 32, \"activation\": \"relu\", \"use_bias\": true, \"kernel_initializer\": {\"class_name\": \"GlorotUniform\", \"config\": {\"seed\": null}}, \"bias_initializer\": {\"class_name\": \"Zeros\", \"config\": {}}, \"kernel_regularizer\": null, \"bias_regularizer\": null, \"activity_regularizer\": null, \"kernel_constraint\": null, \"bias_constraint\": null}}, {\"class_name\": \"Dense\", \"config\": {\"name\": \"dense_2\", \"trainable\": true, \"dtype\": \"float32\", \"units\": 2, \"activation\": \"softmax\", \"use_bias\": true, \"kernel_initializer\": {\"class_name\": \"GlorotUniform\", \"config\": {\"seed\": null}}, \"bias_initializer\": {\"class_name\": \"Zeros\", \"config\": {}}, \"kernel_regularizer\": null, \"bias_regularizer\": null, \"activity_regularizer\": null, \"kernel_constraint\": null, \"bias_constraint\": null}}]}, \"keras_version\": \"2.11.0\", \"backend\": \"tensorflow\"}'"
            ]
          },
          "execution_count": 32,
          "metadata": {},
          "output_type": "execute_result"
        }
      ],
      "source": [
        "json_string"
      ]
    },
    {
      "cell_type": "code",
      "execution_count": 33,
      "metadata": {
        "id": "4lTQIDvBruLy"
      },
      "outputs": [],
      "source": [
        "# model reconstruction from JSON:\n",
        "from keras.models import model_from_json\n",
        "model_architecture = model_from_json(json_string)\n",
        "\n",
        "# model reconstruction from YAML\n",
        "# from keras.models import model_from_yaml\n",
        "# model = model_from_yaml(yaml_string)"
      ]
    },
    {
      "cell_type": "code",
      "execution_count": 34,
      "metadata": {
        "colab": {
          "base_uri": "https://localhost:8080/"
        },
        "id": "UDHdgtmasRGY",
        "outputId": "bb66d2dd-41b8-4596-b04f-847b85d054a5"
      },
      "outputs": [
        {
          "name": "stdout",
          "output_type": "stream",
          "text": [
            "Model: \"sequential\"\n",
            "_________________________________________________________________\n",
            " Layer (type)                Output Shape              Param #   \n",
            "=================================================================\n",
            " dense (Dense)               (None, 16)                32        \n",
            "                                                                 \n",
            " dense_1 (Dense)             (None, 32)                544       \n",
            "                                                                 \n",
            " dense_2 (Dense)             (None, 2)                 66        \n",
            "                                                                 \n",
            "=================================================================\n",
            "Total params: 642\n",
            "Trainable params: 642\n",
            "Non-trainable params: 0\n",
            "_________________________________________________________________\n"
          ]
        }
      ],
      "source": [
        "model_architecture.summary()"
      ]
    },
    {
      "cell_type": "markdown",
      "metadata": {
        "id": "E1FsHOblsVAr"
      },
      "source": [
        "#### option 3: model.save_weights()\n",
        "\n",
        "    - When you only need to save the model's weights \n",
        "\n"
      ]
    },
    {
      "cell_type": "code",
      "execution_count": 35,
      "metadata": {},
      "outputs": [
        {
          "name": "stdout",
          "output_type": "stream",
          "text": [
            "c:\\Users\\robin\\Documents\\Keras\\Keras-DeepLizard-Course\n",
            "c:\\Users\\robin\\Documents\\Keras\\Keras-DeepLizard-Course\\models\n"
          ]
        }
      ],
      "source": [
        "print(os.getcwd())\n",
        "os.chdir('models')\n",
        "print(os.getcwd())"
      ]
    },
    {
      "cell_type": "code",
      "execution_count": 36,
      "metadata": {
        "id": "03TTCdFmsSZ6"
      },
      "outputs": [
        {
          "name": "stdout",
          "output_type": "stream",
          "text": [
            "weights are already saved\n"
          ]
        }
      ],
      "source": [
        "if os.path.isfile('my_model_weights.h5') is False:\n",
        "  model.save_weights('my_model_weights.h5')\n",
        "  print('saved the weights')\n",
        "else:\n",
        "  print('weights are already saved')"
      ]
    },
    {
      "cell_type": "code",
      "execution_count": 37,
      "metadata": {},
      "outputs": [
        {
          "name": "stdout",
          "output_type": "stream",
          "text": [
            "c:\\Users\\robin\\Documents\\Keras\\Keras-DeepLizard-Course\n"
          ]
        }
      ],
      "source": [
        "os.chdir('../')\n",
        "print(os.getcwd())"
      ]
    },
    {
      "cell_type": "code",
      "execution_count": 38,
      "metadata": {
        "id": "sDuaJnOHsa8x"
      },
      "outputs": [],
      "source": [
        "model2 = Sequential([\n",
        "    Dense(16, input_shape=(1,), activation='relu'),\n",
        "    Dense(32, activation='relu'),\n",
        "    Dense(2, activation='softmax')\n",
        "])"
      ]
    },
    {
      "cell_type": "code",
      "execution_count": 39,
      "metadata": {
        "id": "n8o8L6YFsdA2"
      },
      "outputs": [],
      "source": [
        "model2.load_weights('/models/my_model_weights.h5')"
      ]
    },
    {
      "cell_type": "code",
      "execution_count": 40,
      "metadata": {
        "colab": {
          "base_uri": "https://localhost:8080/"
        },
        "id": "8DmrjxPqseM4",
        "outputId": "9c7506df-2f31-4dc1-c6a6-7eb9be443e8a"
      },
      "outputs": [
        {
          "data": {
            "text/plain": [
              "[array([[-0.06590518,  0.27860066,  0.723844  , -0.51433194, -0.04160386,\n",
              "          0.6675093 ,  0.31131768,  0.35954204, -0.06235021, -0.2492392 ,\n",
              "         -0.1605995 , -0.09958419,  0.5752276 , -0.3950163 , -0.4596653 ,\n",
              "         -0.3512347 ]], dtype=float32),\n",
              " array([ 0.21554369,  0.15753224, -0.07615152,  0.        ,  0.        ,\n",
              "        -0.15284102, -0.12163703, -0.13444345,  0.21585664,  0.        ,\n",
              "         0.        ,  0.        , -0.15355569,  0.        ,  0.        ,\n",
              "         0.        ], dtype=float32),\n",
              " array([[-0.19994807, -0.26643145,  0.21491146,  0.16244593, -0.01383277,\n",
              "         -0.02815654, -0.31407857, -0.19254771, -0.32920608, -0.33968768,\n",
              "          0.38137248, -0.31537244,  0.28936106,  0.28158742, -0.13972095,\n",
              "          0.16867043, -0.086099  ,  0.14794515, -0.15754732, -0.12707272,\n",
              "         -0.20173767, -0.26613432,  0.39846036,  0.09186257,  0.0878027 ,\n",
              "         -0.03158144,  0.34824836,  0.3056562 ,  0.34801635,  0.41709068,\n",
              "         -0.17316951, -0.3287342 ],\n",
              "        [-0.08392881, -0.17377923, -0.318768  , -0.33894268, -0.11091137,\n",
              "          0.30373675,  0.11992303, -0.20082341,  0.45082963,  0.00479498,\n",
              "          0.2149788 ,  0.37933058,  0.23207545,  0.03185291,  0.23215815,\n",
              "          0.23787926,  0.02212137, -0.06869059,  0.3979699 ,  0.27776498,\n",
              "         -0.15752378, -0.17055348,  0.28934544, -0.00641373, -0.01281366,\n",
              "         -0.09644245,  0.1538042 , -0.22974621,  0.09720137, -0.11126273,\n",
              "         -0.14381051, -0.0581051 ],\n",
              "        [ 0.07448576,  0.5138755 , -0.06160689, -0.09911716,  0.18769735,\n",
              "         -0.03966829, -0.32589865, -0.17854045,  0.3226215 ,  0.08922851,\n",
              "         -0.21551315,  0.52986294, -0.34202638,  0.10100295,  0.21461727,\n",
              "          0.1552969 , -0.3521714 , -0.1554601 , -0.03723067, -0.27771378,\n",
              "          0.4420386 ,  0.4823166 , -0.1759059 ,  0.14807594,  0.4993208 ,\n",
              "         -0.00742083, -0.0584457 ,  0.4633747 , -0.2080148 ,  0.14548454,\n",
              "          0.00244123,  0.3116685 ],\n",
              "        [-0.24702427,  0.1800156 ,  0.2969425 , -0.10884154, -0.07698029,\n",
              "          0.10833138,  0.05952442,  0.13552403,  0.09623441,  0.304316  ,\n",
              "         -0.15097624, -0.3133484 , -0.32989374, -0.3333428 ,  0.2505338 ,\n",
              "         -0.29851204, -0.10519044,  0.15899584,  0.04560071, -0.16187128,\n",
              "          0.04329509, -0.19853155,  0.08001974, -0.03655455,  0.05230018,\n",
              "          0.12347806, -0.05161446, -0.30146208, -0.3120165 ,  0.03594494,\n",
              "          0.04375291, -0.05748728],\n",
              "        [ 0.05263317, -0.08795515, -0.17932446, -0.30907026, -0.2983181 ,\n",
              "          0.33334306, -0.2665633 ,  0.33358243, -0.31954974, -0.08297196,\n",
              "          0.23146889, -0.2972999 , -0.18923774,  0.3522043 , -0.18871723,\n",
              "         -0.30200526,  0.0159798 , -0.12401642,  0.15350649,  0.04866645,\n",
              "         -0.16968827,  0.06844193,  0.09607744, -0.11526109, -0.07544446,\n",
              "          0.3419604 , -0.19382821, -0.33230245,  0.30166563, -0.15471695,\n",
              "          0.24008504, -0.31518552],\n",
              "        [-0.04085542,  0.43987656,  0.06482833, -0.30800572,  0.00151334,\n",
              "         -0.12259594, -0.2630261 , -0.34802532,  0.15640265, -0.06363765,\n",
              "         -0.3742866 , -0.09210207, -0.01085659, -0.49775937,  0.4663225 ,\n",
              "         -0.39099985, -0.04394433,  0.04154856,  0.49402884, -0.28367692,\n",
              "          0.588087  ,  0.49415204, -0.41179124, -0.34551412,  0.09446852,\n",
              "         -0.25515264, -0.5231352 ,  0.23593996, -0.11562248, -0.2110218 ,\n",
              "         -0.2364969 ,  0.34020522],\n",
              "        [ 0.19883606,  0.18462011,  0.170427  , -0.09324729,  0.01830774,\n",
              "          0.09501705, -0.07226118, -0.18729545,  0.51244664,  0.32356212,\n",
              "         -0.6017822 ,  0.4699787 , -0.48487574, -0.48030245,  0.6313779 ,\n",
              "         -0.4606949 ,  0.04377928, -0.3447719 ,  0.43353012,  0.28328308,\n",
              "          0.3921939 ,  0.40149578, -0.3133037 , -0.4619384 ,  0.1582769 ,\n",
              "         -0.15767   ,  0.05528483,  0.24366835,  0.01189981, -0.5795963 ,\n",
              "          0.30202043,  0.5535448 ],\n",
              "        [ 0.1749788 ,  0.12122401, -0.24196759, -0.03462684, -0.39183253,\n",
              "          0.23434453, -0.04350087, -0.1522501 ,  0.33140317,  0.07006072,\n",
              "         -0.4172206 ,  0.27783522, -0.10235621,  0.01323779,  0.38308603,\n",
              "         -0.3013162 , -0.06520277, -0.5523155 ,  0.2979745 ,  0.12408502,\n",
              "          0.251968  ,  0.20785339, -0.58254695, -0.15120508, -0.03034413,\n",
              "          0.28582767, -0.2039061 ,  0.4307217 , -0.36702615, -0.31730083,\n",
              "          0.24239513,  0.6613197 ],\n",
              "        [-0.33419555,  0.22208127, -0.01321337, -0.34695402,  0.3796907 ,\n",
              "         -0.27601445, -0.13721032,  0.06514108, -0.06896134, -0.31579024,\n",
              "          0.17461757,  0.04754604,  0.20501624,  0.06936781, -0.11136884,\n",
              "         -0.26560867, -0.19733264,  0.2838107 , -0.30210048,  0.1665    ,\n",
              "         -0.12227131, -0.06609838,  0.49879315,  0.24715999,  0.04252214,\n",
              "          0.08774938,  0.30621585, -0.19167681,  0.02971136,  0.20165452,\n",
              "         -0.29573736,  0.2898158 ],\n",
              "        [ 0.17451003, -0.14050385, -0.07277352,  0.26468316, -0.31694287,\n",
              "         -0.03883994, -0.20805816, -0.21498433, -0.08924738, -0.2065531 ,\n",
              "          0.15335909, -0.12259102,  0.11003175,  0.12268493, -0.07871699,\n",
              "          0.14413622,  0.08854741,  0.22169527, -0.02443716,  0.3234016 ,\n",
              "          0.34937045, -0.29315147, -0.041181  ,  0.33131585, -0.06678033,\n",
              "         -0.17983393,  0.0922007 ,  0.20691314,  0.0388518 ,  0.00155815,\n",
              "          0.18683973,  0.14265689],\n",
              "        [-0.00772864,  0.13902897, -0.27427095, -0.06991631, -0.19856307,\n",
              "         -0.2632771 , -0.29589272,  0.12104508,  0.24920663,  0.26281157,\n",
              "         -0.00275007,  0.23211393,  0.0863556 ,  0.347302  , -0.13976443,\n",
              "         -0.03895229, -0.03128713,  0.33919606, -0.14927022, -0.22589572,\n",
              "          0.19177833, -0.23945951,  0.01394725, -0.34337914, -0.26654384,\n",
              "         -0.14015134,  0.03991669,  0.06963569,  0.20385191, -0.32873732,\n",
              "         -0.27675694,  0.18795672],\n",
              "        [-0.05192003,  0.1311841 ,  0.27115193, -0.08620328, -0.08582589,\n",
              "          0.30769363, -0.3041093 , -0.1898047 ,  0.11394653, -0.00295392,\n",
              "          0.02555776,  0.15740648, -0.22166832, -0.02868769, -0.27261245,\n",
              "          0.01934877,  0.14265689,  0.17306235, -0.29278344,  0.26353428,\n",
              "          0.2741429 ,  0.19788596,  0.22955367,  0.3438864 , -0.34491456,\n",
              "          0.17223689, -0.31947133,  0.28103688, -0.11265962,  0.03366604,\n",
              "         -0.08334345,  0.22893283],\n",
              "        [ 0.02414535,  0.54144853,  0.25572303, -0.11944787, -0.14199102,\n",
              "         -0.22902901, -0.13449202,  0.04236585,  0.3516171 , -0.03523551,\n",
              "         -0.06877427,  0.15696582, -0.2949437 , -0.30094016,  0.03596423,\n",
              "         -0.25125575,  0.08752704, -0.29893917,  0.49271262, -0.02678292,\n",
              "          0.2485958 ,  0.45348847, -0.334553  , -0.4841574 ,  0.4652098 ,\n",
              "         -0.02610564, -0.47621673,  0.09815598, -0.31446236, -0.4530381 ,\n",
              "          0.33621338,  0.38816476],\n",
              "        [ 0.14935723, -0.23838165,  0.00861692, -0.351244  ,  0.34871402,\n",
              "         -0.1264719 ,  0.22035089,  0.0130254 ,  0.05765384, -0.3232057 ,\n",
              "          0.13090053, -0.04936525, -0.08585194, -0.08031741,  0.1216487 ,\n",
              "         -0.14671478, -0.22438602, -0.00659674,  0.12466997, -0.14533447,\n",
              "          0.21277282, -0.01934835,  0.35106644,  0.09264004, -0.18357776,\n",
              "         -0.17015222, -0.18064544, -0.14958952,  0.09685674, -0.27812704,\n",
              "          0.24755356,  0.05785304],\n",
              "        [ 0.16226724, -0.17051882, -0.10113019, -0.1879494 , -0.04030731,\n",
              "         -0.14750478,  0.19208047, -0.12562221,  0.26408437,  0.1736522 ,\n",
              "         -0.22422148, -0.06263697, -0.22774024,  0.22753462, -0.34439892,\n",
              "         -0.06788501,  0.27807865,  0.09595767,  0.11024958,  0.23035505,\n",
              "          0.2700748 ,  0.04365209, -0.18441513,  0.1506711 , -0.10526344,\n",
              "          0.28486457,  0.32608154,  0.33962134,  0.18005785, -0.23743653,\n",
              "         -0.30293933, -0.2001628 ],\n",
              "        [-0.3501152 ,  0.2579296 , -0.05450389, -0.20110537,  0.08651373,\n",
              "          0.22844544, -0.03164908,  0.2731512 ,  0.02110258, -0.32333267,\n",
              "          0.27066842, -0.18143746, -0.16314168, -0.2973429 , -0.1097697 ,\n",
              "         -0.12477279, -0.23081958, -0.05983612,  0.32250103, -0.34770307,\n",
              "          0.28815362,  0.10956764, -0.05102026,  0.14117357, -0.06597447,\n",
              "          0.27365175, -0.20887709,  0.16389409, -0.15821278,  0.31569454,\n",
              "         -0.0464986 ,  0.32538465]], dtype=float32),\n",
              " array([-0.00851159, -0.08995537, -0.00055935,  0.        ,  0.0979519 ,\n",
              "        -0.00503431,  0.        ,  0.        , -0.10084076, -0.00414004,\n",
              "         0.21251476, -0.11673047,  0.13464327,  0.18236879, -0.08897609,\n",
              "         0.00917637,  0.        ,  0.20643573, -0.07660558,  0.00936333,\n",
              "        -0.07050232, -0.07336159,  0.19935662,  0.19816075, -0.11152691,\n",
              "        -0.00142966,  0.19646771, -0.09291145,  0.15965217,  0.17801237,\n",
              "        -0.00764394, -0.08926945], dtype=float32),\n",
              " array([[-0.17995249, -0.38988358],\n",
              "        [-0.30334625,  0.33943745],\n",
              "        [-0.12165459,  0.35356855],\n",
              "        [-0.16377473,  0.3834444 ],\n",
              "        [-0.01015032, -0.24279667],\n",
              "        [-0.07879736,  0.03481407],\n",
              "        [ 0.39641377, -0.00811294],\n",
              "        [ 0.03833595, -0.16365945],\n",
              "        [-0.46773002,  0.264461  ],\n",
              "        [ 0.09250101, -0.1226598 ],\n",
              "        [ 0.75361174, -0.25581995],\n",
              "        [-0.05691138,  0.53658295],\n",
              "        [ 0.67650944, -0.43901563],\n",
              "        [ 0.8409065 , -0.78852123],\n",
              "        [-0.4191111 ,  0.52167237],\n",
              "        [ 0.11038239,  0.42135185],\n",
              "        [-0.34932753, -0.05191568],\n",
              "        [ 0.8214328 , -0.59045815],\n",
              "        [-0.14676657,  0.597734  ],\n",
              "        [ 0.21338893,  0.33126116],\n",
              "        [-0.70728236, -0.07718998],\n",
              "        [-0.4692831 ,  0.20987785],\n",
              "        [ 0.7079862 , -0.5376653 ],\n",
              "        [ 0.40062973, -0.6903379 ],\n",
              "        [-0.12618062,  0.6493682 ],\n",
              "        [-0.27764714,  0.1848634 ],\n",
              "        [ 0.48269492, -0.79382133],\n",
              "        [-0.49071616,  0.7111095 ],\n",
              "        [ 0.475317  , -0.5528523 ],\n",
              "        [ 0.7455249 , -0.0400985 ],\n",
              "        [ 0.35699603, -0.00715156],\n",
              "        [-0.35070717,  0.2949611 ]], dtype=float32),\n",
              " array([ 0.10900588, -0.10900588], dtype=float32)]"
            ]
          },
          "execution_count": 40,
          "metadata": {},
          "output_type": "execute_result"
        }
      ],
      "source": [
        "model2.get_weights()"
      ]
    }
  ],
  "metadata": {
    "colab": {
      "provenance": []
    },
    "kernelspec": {
      "display_name": "Python 3.9.12 ('base')",
      "language": "python",
      "name": "python3"
    },
    "language_info": {
      "codemirror_mode": {
        "name": "ipython",
        "version": 3
      },
      "file_extension": ".py",
      "mimetype": "text/x-python",
      "name": "python",
      "nbconvert_exporter": "python",
      "pygments_lexer": "ipython3",
      "version": "3.9.12"
    },
    "vscode": {
      "interpreter": {
        "hash": "49d1cf207c92197553c1326cc52484d1ee2809997f5109c15474876a3e083b6e"
      }
    }
  },
  "nbformat": 4,
  "nbformat_minor": 0
}
